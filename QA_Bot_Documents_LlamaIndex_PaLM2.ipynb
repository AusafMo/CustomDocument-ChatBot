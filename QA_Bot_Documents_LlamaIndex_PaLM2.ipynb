{
  "nbformat": 4,
  "nbformat_minor": 0,
  "metadata": {
    "colab": {
      "provenance": [],
      "gpuType": "T4",
      "collapsed_sections": [
        "D48UX4W9diCc"
      ],
      "include_colab_link": true
    },
    "kernelspec": {
      "name": "python3",
      "display_name": "Python 3"
    },
    "language_info": {
      "name": "python"
    },
    "accelerator": "GPU"
  },
  "cells": [
    {
      "cell_type": "markdown",
      "metadata": {
        "id": "view-in-github",
        "colab_type": "text"
      },
      "source": [
        "<a href=\"https://colab.research.google.com/github/AusafMo/CustomDocument-ChatBot/blob/main/QA_Bot_Documents_LlamaIndex_PaLM2.ipynb\" target=\"_parent\"><img src=\"https://colab.research.google.com/assets/colab-badge.svg\" alt=\"Open In Colab\"/></a>"
      ]
    },
    {
      "cell_type": "code",
      "source": [
        "from google.colab import drive\n",
        "drive.mount('/content/drive')"
      ],
      "metadata": {
        "colab": {
          "base_uri": "https://localhost:8080/"
        },
        "id": "tjRdB53ENfqp",
        "outputId": "a854f2ad-1f85-4023-a742-d5ecedd3b6b0"
      },
      "execution_count": null,
      "outputs": [
        {
          "output_type": "stream",
          "name": "stdout",
          "text": [
            "Mounted at /content/drive\n"
          ]
        }
      ]
    },
    {
      "cell_type": "code",
      "source": [
        "from google.colab import userdata\n",
        "\n",
        "os.environ['GOOGLE_API_KEY'] = userdata.get('palm_key')\n",
        "\n",
        "# os.environ['OPENAI_API_KEY'] = userdata.get('openai_key')"
      ],
      "metadata": {
        "id": "0d1c7czJakcJ"
      },
      "execution_count": null,
      "outputs": []
    },
    {
      "cell_type": "code",
      "execution_count": null,
      "metadata": {
        "id": "vGjAxudUU7iF"
      },
      "outputs": [],
      "source": [
        "!pip install -q llama-index\n",
        "!pip install pypdf\n",
        "!pip install google-generativeai\n",
        "!pip install transformers\n",
        "!pip install llama-cpp-python"
      ]
    },
    {
      "cell_type": "code",
      "source": [
        "from llama_index import SimpleDirectoryReader, VectorStoreIndex\n",
        "from llama_index.llms.palm import PaLM\n",
        "from IPython.display import Markdown, display\n",
        "from llama_index import ServiceContext\n",
        "from llama_index import StorageContext, load_index_from_storage\n",
        "import os"
      ],
      "metadata": {
        "id": "hwC7EHQ-XVo-"
      },
      "execution_count": null,
      "outputs": []
    },
    {
      "cell_type": "code",
      "source": [
        "!mkdir data"
      ],
      "metadata": {
        "id": "CUZEMGhyXk9_"
      },
      "execution_count": null,
      "outputs": []
    },
    {
      "cell_type": "code",
      "source": [
        "documents = SimpleDirectoryReader(\"data\").load_data()\n",
        "llm = PaLM(num_output = 512)\n",
        "# Configure Service Context\n",
        "service_context = ServiceContext.from_defaults(llm=llm, chunk_size=800, chunk_overlap=20)"
      ],
      "metadata": {
        "id": "7_gzjH61Y14k"
      },
      "execution_count": null,
      "outputs": []
    },
    {
      "cell_type": "code",
      "source": [
        "index = VectorStoreIndex.from_documents(documents, service_context=service_context)\n",
        "# index.storage_context.persist()\n",
        "#Loading the index\n",
        "#storage_context = StorageContext.from_defaults(persist_dir = './storage')\n",
        "#index = load_index_from_storage(storage_context=storage_context)"
      ],
      "metadata": {
        "id": "r-0Phb5_bgkl"
      },
      "execution_count": null,
      "outputs": []
    },
    {
      "cell_type": "code",
      "source": [
        "query_engine = index.as_query_engine()\n",
        "response = query_engine.query(\"Detailed Description of Azadirachta indica A. Juss.?\")\n",
        "print(response)"
      ],
      "metadata": {
        "id": "MdCsa5exdSyK"
      },
      "execution_count": null,
      "outputs": []
    },
    {
      "cell_type": "code",
      "source": [
        "response = query_engine.query(\"Tell me about everything about Azadirachta indica A. Juss. ?\")\n",
        "print(response)"
      ],
      "metadata": {
        "colab": {
          "base_uri": "https://localhost:8080/"
        },
        "id": "3ir8YLBiedbR",
        "outputId": "006f421e-df6e-46b5-ffc7-8ef959f15aa9"
      },
      "execution_count": null,
      "outputs": [
        {
          "output_type": "stream",
          "name": "stdout",
          "text": [
            "Azadirachta indica A. Juss., commonly known as Neem, is a large, hardy, fast growing tree, native to India. It grows wild in most parts of the country except in the foothills of Himalayas. The tree is widely cultivated in diverse agro-climatic regions of the country. It is often grown as an avenue tree.\n",
            "Neem is a very important medicinal plant in Ayurveda. Almost all parts of the plant (bark, twigs, leaves, flowers, fruits, seeds) are used medicinally.\n",
            "The leaves, stem bark, fruit coat, seed and seed oil contain a vast array of chemically diverse and structurally complex compounds. The most abundant are the tetranortriterpenoids (limonoids). Several of these are biologically active, and of these certain diterpene phenols (margolone and related compounds), and limonoids (nimbin, nimbolide, azadirachtin, gedunin), which are relevant in the present context, are shown in box.\n"
          ]
        }
      ]
    },
    {
      "cell_type": "code",
      "source": [
        "response = query_engine.query(\"Tell me everything about its chemical Constitutents ?\")\n",
        "print(response)"
      ],
      "metadata": {
        "colab": {
          "base_uri": "https://localhost:8080/"
        },
        "id": "R7QfiAWqepli",
        "outputId": "70799188-4532-4a36-f0a4-56a2d317ee55"
      },
      "execution_count": null,
      "outputs": [
        {
          "output_type": "stream",
          "name": "stdout",
          "text": [
            "The characteristic chemical components of leaves are lignans, of which 8 \n",
            "have been isolated, major one’s being nectandrin-B, meso -dihydroguaiaretic \n",
            "acid, and macelignan. Four flavonoids (acacetin, chrysoeriol, apigenin \n",
            "and its 7- O-coumaroylglucoside, the last one being major) were also ob -\n",
            "tained. A number of diterpenoids have more recently been identified, the \n",
            "biologically actives being: leucasperone A, leucasperoside A and B, and \n",
            "linifolioside. Nicotine has been identified in the aerial parts of the plant.\n"
          ]
        }
      ]
    },
    {
      "cell_type": "markdown",
      "source": [
        "# **OpenA-I**-have no creds 😞"
      ],
      "metadata": {
        "id": "xWltb55V7efK"
      }
    },
    {
      "cell_type": "code",
      "source": [
        "from llama_index import ServiceContext, VectorStoreIndex, SimpleDirectoryReader\n",
        "from llama_index import set_global_service_context\n",
        "\n",
        "llm = PaLM()\n",
        "documents = SimpleDirectoryReader(\"data\").load_data()\n",
        "\n",
        "service_context = ServiceContext.from_defaults(llm=llm, embed_model  = \"local:BAAI/bge-large-en\", chunk_size=400, chunk_overlap=100)\n",
        "\n",
        "index = VectorStoreIndex.from_documents(documents, service_context=service_context)"
      ],
      "metadata": {
        "id": "9yOz0Oz25B-B"
      },
      "execution_count": null,
      "outputs": []
    },
    {
      "cell_type": "code",
      "source": [
        "query_engine = index.as_query_engine()"
      ],
      "metadata": {
        "id": "jGX069uf7nPn"
      },
      "execution_count": null,
      "outputs": []
    },
    {
      "cell_type": "code",
      "source": [
        "response = query_engine.query(\"Tell me about Azadirachta indica A. Juss. in detail\")\n",
        "longresponse = query_engine.query(\"Explain the following in detail \" + '\\n\\n' + response.response)\n",
        "longresponse =  str(response.response) + str(longresponse.response)\n",
        "print(longresponse)"
      ],
      "metadata": {
        "colab": {
          "base_uri": "https://localhost:8080/"
        },
        "id": "xq_1U_7c9-eY",
        "outputId": "d1549015-503e-43e3-b349-e387cc00ac45"
      },
      "execution_count": null,
      "outputs": [
        {
          "output_type": "stream",
          "name": "stdout",
          "text": [
            "Azadirachta indica A. Juss. (Neem) is a large, hardy, fast growing tree, 10—15 m in height and  1.5—2.5  m in girth, with a straight and long trunk, \n",
            "spreading branches, and a \n",
            "round crown. The tree is \n",
            "native of India, and grows \n",
            "wild in most parts of the \n",
            "country except in the foothills \n",
            "of Himalayas. It flowers from January to April depending  on the region of the country. The tree is mostly evergreen, except in dry localities and cold months (in the North), when it becomes almost leafless for a brief period. \n",
            "Almost all parts (bark, twigs, leaves, flowers, fruits, seeds) are used me-\n",
            "dicinally.Azadirachta indica A. Juss. (Neem) is a large, hardy, fast growing tree, 10—15 m in height and  1.5—2.5  m in girth, with a straight and long trunk, \n",
            "spreading branches, and a \n",
            "round crown. The tree is \n",
            "native of India, and grows \n",
            "wild in most parts of the \n",
            "country except in the foothills \n",
            "of Himalayas. It flowers from January to April depending  on the region of the country. The tree is mostly evergreen, except in dry localities and cold months (in the North), when it becomes almost leafless for a brief period. \n",
            "Almost all parts (bark, twigs, leaves, flowers, fruits, seeds) are used me-\n",
            "dicinally.\n"
          ]
        }
      ]
    },
    {
      "cell_type": "code",
      "source": [
        "index.storage_context.persist()"
      ],
      "metadata": {
        "id": "s4u-DztHNagI"
      },
      "execution_count": null,
      "outputs": []
    },
    {
      "cell_type": "code",
      "source": [
        "qq = \"Write a lengthy response to this query\"\n",
        "fullResponse = str(response)\n",
        "while True:\n",
        "    resp = query_engine.query(qq + '\\n\\n' + fullResponse)\n",
        "    if resp.response != \"Empty Response\":\n",
        "        fullResponse += (\" \" + resp.response)\n",
        "    else:\n",
        "        break\n",
        "print(\"\\n\\n================================\\n\\n\" + fullResponse)"
      ],
      "metadata": {
        "id": "Y_I4U_RbHRJL"
      },
      "execution_count": null,
      "outputs": []
    },
    {
      "cell_type": "code",
      "source": [
        "print(fullResponse)"
      ],
      "metadata": {
        "id": "BrwNzz0iIic9"
      },
      "execution_count": null,
      "outputs": []
    }
  ]
}